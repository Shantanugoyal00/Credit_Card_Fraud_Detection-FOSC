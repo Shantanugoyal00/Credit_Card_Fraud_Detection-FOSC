{
  "nbformat": 4,
  "nbformat_minor": 0,
  "metadata": {
    "kernelspec": {
      "display_name": "Python 3",
      "language": "python",
      "name": "python3"
    },
    "language_info": {
      "codemirror_mode": {
        "name": "ipython",
        "version": 3
      },
      "file_extension": ".py",
      "mimetype": "text/x-python",
      "name": "python",
      "nbconvert_exporter": "python",
      "pygments_lexer": "ipython3",
      "version": "3.7.3"
    },
    "colab": {
      "name": "CREDIT CARD CNN_final.ipynb",
      "provenance": [],
      "collapsed_sections": [],
      "include_colab_link": true
    },
    "accelerator": "TPU"
  },
  "cells": [
    {
      "cell_type": "markdown",
      "metadata": {
        "id": "view-in-github",
        "colab_type": "text"
      },
      "source": [
        "<a href=\"https://colab.research.google.com/github/Shantanugoyal00/Credit_Card_Fraud_Detection-FOSC/blob/main/CREDIT_CARD_CNN_final.ipynb\" target=\"_parent\"><img src=\"https://colab.research.google.com/assets/colab-badge.svg\" alt=\"Open In Colab\"/></a>"
      ]
    },
    {
      "cell_type": "markdown",
      "metadata": {
        "id": "IyUz_ZNtkSVy"
      },
      "source": [
        "## Credit Card Fraud Detection using CNN"
      ]
    },
    {
      "cell_type": "code",
      "metadata": {
        "colab": {
          "base_uri": "https://localhost:8080/"
        },
        "id": "-OEPoqonkSV4",
        "outputId": "13a88584-3602-451f-c893-208548fcc5e5"
      },
      "source": [
        "import tensorflow as tf\n",
        "from tensorflow import keras\n",
        "from tensorflow.keras import Sequential\n",
        "from tensorflow.keras.layers import Flatten, Dense, Dropout, BatchNormalization\n",
        "from tensorflow.keras.layers import Conv1D, MaxPool1D\n",
        "from tensorflow.keras.optimizers import Adam\n",
        "print(tf.__version__)"
      ],
      "execution_count": null,
      "outputs": [
        {
          "output_type": "stream",
          "name": "stdout",
          "text": [
            "2.8.0\n"
          ]
        }
      ]
    },
    {
      "cell_type": "code",
      "metadata": {
        "id": "GyMgkMPhkSV5"
      },
      "source": [
        "import pandas as pd\n",
        "import numpy as np\n",
        "import  seaborn as sns\n",
        "import matplotlib.pyplot as pylt\n",
        "from sklearn.model_selection import train_test_split\n",
        "from sklearn.preprocessing import StandardScaler"
      ],
      "execution_count": null,
      "outputs": []
    },
    {
      "cell_type": "markdown",
      "source": [
        ""
      ],
      "metadata": {
        "id": "TueCyBUUPkL5"
      }
    },
    {
      "cell_type": "markdown",
      "source": [
        ""
      ],
      "metadata": {
        "id": "nVI_S3xBPkHV"
      }
    },
    {
      "cell_type": "markdown",
      "source": [
        ""
      ],
      "metadata": {
        "id": "MZ2y3VSpPkEz"
      }
    },
    {
      "cell_type": "markdown",
      "source": [
        ""
      ],
      "metadata": {
        "id": "PH38AFa4PkCf"
      }
    },
    {
      "cell_type": "code",
      "source": [
        "from google.colab import drive\n",
        "drive.mount('/content/drive')"
      ],
      "metadata": {
        "colab": {
          "base_uri": "https://localhost:8080/"
        },
        "id": "oJRcld-BP-Yd",
        "outputId": "aeda934d-a658-45c8-8c5c-a006494b82ad"
      },
      "execution_count": null,
      "outputs": [
        {
          "output_type": "stream",
          "name": "stdout",
          "text": [
            "Mounted at /content/drive\n"
          ]
        }
      ]
    },
    {
      "cell_type": "code",
      "source": [
        "! pip install -q kaggle"
      ],
      "metadata": {
        "id": "1Ya8bnIsQvo_"
      },
      "execution_count": null,
      "outputs": []
    },
    {
      "cell_type": "code",
      "source": [
        "! mkdir ~/.kaggle"
      ],
      "metadata": {
        "id": "PNvE8KuiQ22S"
      },
      "execution_count": null,
      "outputs": []
    },
    {
      "cell_type": "code",
      "source": [
        "! cp kaggle.json ~/.kaggle/"
      ],
      "metadata": {
        "id": "m9L49671Q3Vy"
      },
      "execution_count": null,
      "outputs": []
    },
    {
      "cell_type": "code",
      "source": [
        "! chmod 600 ~/.kaggle/kaggle.json"
      ],
      "metadata": {
        "id": "l64U7dicROEz"
      },
      "execution_count": null,
      "outputs": []
    },
    {
      "cell_type": "code",
      "source": [
        "! kaggle datasets download mlg-ulb/creditcardfraud"
      ],
      "metadata": {
        "colab": {
          "base_uri": "https://localhost:8080/"
        },
        "id": "XMH8nbAvRRCP",
        "outputId": "542b5cc2-cd71-4724-a12a-cdfbb9d67a05"
      },
      "execution_count": null,
      "outputs": [
        {
          "output_type": "stream",
          "name": "stdout",
          "text": [
            "Downloading creditcardfraud.zip to /content\n",
            " 86% 57.0M/66.0M [00:02<00:00, 23.9MB/s]\n",
            "100% 66.0M/66.0M [00:02<00:00, 24.3MB/s]\n"
          ]
        }
      ]
    },
    {
      "cell_type": "code",
      "source": [
        "! unzip creditcardfraud"
      ],
      "metadata": {
        "colab": {
          "base_uri": "https://localhost:8080/"
        },
        "id": "hOoTSpw6RnAk",
        "outputId": "719589bc-ce3e-4bd2-e844-18a7f06478df"
      },
      "execution_count": null,
      "outputs": [
        {
          "output_type": "stream",
          "name": "stdout",
          "text": [
            "Archive:  creditcardfraud.zip\n",
            "  inflating: creditcard.csv          \n"
          ]
        }
      ]
    },
    {
      "cell_type": "code",
      "metadata": {
        "colab": {
          "base_uri": "https://localhost:8080/",
          "height": 300
        },
        "id": "dNQ9tYdxkSV6",
        "outputId": "89ce3aaa-8724-45ae-b277-983825b8ea43"
      },
      "source": [
        "data = pd.read_csv('creditcard.csv')\n",
        "data.head()"
      ],
      "execution_count": null,
      "outputs": [
        {
          "output_type": "execute_result",
          "data": {
            "text/plain": [
              "   Time        V1        V2        V3        V4        V5        V6        V7  \\\n",
              "0   0.0 -1.359807 -0.072781  2.536347  1.378155 -0.338321  0.462388  0.239599   \n",
              "1   0.0  1.191857  0.266151  0.166480  0.448154  0.060018 -0.082361 -0.078803   \n",
              "2   1.0 -1.358354 -1.340163  1.773209  0.379780 -0.503198  1.800499  0.791461   \n",
              "3   1.0 -0.966272 -0.185226  1.792993 -0.863291 -0.010309  1.247203  0.237609   \n",
              "4   2.0 -1.158233  0.877737  1.548718  0.403034 -0.407193  0.095921  0.592941   \n",
              "\n",
              "         V8        V9  ...       V21       V22       V23       V24       V25  \\\n",
              "0  0.098698  0.363787  ... -0.018307  0.277838 -0.110474  0.066928  0.128539   \n",
              "1  0.085102 -0.255425  ... -0.225775 -0.638672  0.101288 -0.339846  0.167170   \n",
              "2  0.247676 -1.514654  ...  0.247998  0.771679  0.909412 -0.689281 -0.327642   \n",
              "3  0.377436 -1.387024  ... -0.108300  0.005274 -0.190321 -1.175575  0.647376   \n",
              "4 -0.270533  0.817739  ... -0.009431  0.798278 -0.137458  0.141267 -0.206010   \n",
              "\n",
              "        V26       V27       V28  Amount  Class  \n",
              "0 -0.189115  0.133558 -0.021053  149.62      0  \n",
              "1  0.125895 -0.008983  0.014724    2.69      0  \n",
              "2 -0.139097 -0.055353 -0.059752  378.66      0  \n",
              "3 -0.221929  0.062723  0.061458  123.50      0  \n",
              "4  0.502292  0.219422  0.215153   69.99      0  \n",
              "\n",
              "[5 rows x 31 columns]"
            ],
            "text/html": [
              "\n",
              "  <div id=\"df-412d4d80-f31e-4675-becc-ccff3223e7b5\">\n",
              "    <div class=\"colab-df-container\">\n",
              "      <div>\n",
              "<style scoped>\n",
              "    .dataframe tbody tr th:only-of-type {\n",
              "        vertical-align: middle;\n",
              "    }\n",
              "\n",
              "    .dataframe tbody tr th {\n",
              "        vertical-align: top;\n",
              "    }\n",
              "\n",
              "    .dataframe thead th {\n",
              "        text-align: right;\n",
              "    }\n",
              "</style>\n",
              "<table border=\"1\" class=\"dataframe\">\n",
              "  <thead>\n",
              "    <tr style=\"text-align: right;\">\n",
              "      <th></th>\n",
              "      <th>Time</th>\n",
              "      <th>V1</th>\n",
              "      <th>V2</th>\n",
              "      <th>V3</th>\n",
              "      <th>V4</th>\n",
              "      <th>V5</th>\n",
              "      <th>V6</th>\n",
              "      <th>V7</th>\n",
              "      <th>V8</th>\n",
              "      <th>V9</th>\n",
              "      <th>...</th>\n",
              "      <th>V21</th>\n",
              "      <th>V22</th>\n",
              "      <th>V23</th>\n",
              "      <th>V24</th>\n",
              "      <th>V25</th>\n",
              "      <th>V26</th>\n",
              "      <th>V27</th>\n",
              "      <th>V28</th>\n",
              "      <th>Amount</th>\n",
              "      <th>Class</th>\n",
              "    </tr>\n",
              "  </thead>\n",
              "  <tbody>\n",
              "    <tr>\n",
              "      <th>0</th>\n",
              "      <td>0.0</td>\n",
              "      <td>-1.359807</td>\n",
              "      <td>-0.072781</td>\n",
              "      <td>2.536347</td>\n",
              "      <td>1.378155</td>\n",
              "      <td>-0.338321</td>\n",
              "      <td>0.462388</td>\n",
              "      <td>0.239599</td>\n",
              "      <td>0.098698</td>\n",
              "      <td>0.363787</td>\n",
              "      <td>...</td>\n",
              "      <td>-0.018307</td>\n",
              "      <td>0.277838</td>\n",
              "      <td>-0.110474</td>\n",
              "      <td>0.066928</td>\n",
              "      <td>0.128539</td>\n",
              "      <td>-0.189115</td>\n",
              "      <td>0.133558</td>\n",
              "      <td>-0.021053</td>\n",
              "      <td>149.62</td>\n",
              "      <td>0</td>\n",
              "    </tr>\n",
              "    <tr>\n",
              "      <th>1</th>\n",
              "      <td>0.0</td>\n",
              "      <td>1.191857</td>\n",
              "      <td>0.266151</td>\n",
              "      <td>0.166480</td>\n",
              "      <td>0.448154</td>\n",
              "      <td>0.060018</td>\n",
              "      <td>-0.082361</td>\n",
              "      <td>-0.078803</td>\n",
              "      <td>0.085102</td>\n",
              "      <td>-0.255425</td>\n",
              "      <td>...</td>\n",
              "      <td>-0.225775</td>\n",
              "      <td>-0.638672</td>\n",
              "      <td>0.101288</td>\n",
              "      <td>-0.339846</td>\n",
              "      <td>0.167170</td>\n",
              "      <td>0.125895</td>\n",
              "      <td>-0.008983</td>\n",
              "      <td>0.014724</td>\n",
              "      <td>2.69</td>\n",
              "      <td>0</td>\n",
              "    </tr>\n",
              "    <tr>\n",
              "      <th>2</th>\n",
              "      <td>1.0</td>\n",
              "      <td>-1.358354</td>\n",
              "      <td>-1.340163</td>\n",
              "      <td>1.773209</td>\n",
              "      <td>0.379780</td>\n",
              "      <td>-0.503198</td>\n",
              "      <td>1.800499</td>\n",
              "      <td>0.791461</td>\n",
              "      <td>0.247676</td>\n",
              "      <td>-1.514654</td>\n",
              "      <td>...</td>\n",
              "      <td>0.247998</td>\n",
              "      <td>0.771679</td>\n",
              "      <td>0.909412</td>\n",
              "      <td>-0.689281</td>\n",
              "      <td>-0.327642</td>\n",
              "      <td>-0.139097</td>\n",
              "      <td>-0.055353</td>\n",
              "      <td>-0.059752</td>\n",
              "      <td>378.66</td>\n",
              "      <td>0</td>\n",
              "    </tr>\n",
              "    <tr>\n",
              "      <th>3</th>\n",
              "      <td>1.0</td>\n",
              "      <td>-0.966272</td>\n",
              "      <td>-0.185226</td>\n",
              "      <td>1.792993</td>\n",
              "      <td>-0.863291</td>\n",
              "      <td>-0.010309</td>\n",
              "      <td>1.247203</td>\n",
              "      <td>0.237609</td>\n",
              "      <td>0.377436</td>\n",
              "      <td>-1.387024</td>\n",
              "      <td>...</td>\n",
              "      <td>-0.108300</td>\n",
              "      <td>0.005274</td>\n",
              "      <td>-0.190321</td>\n",
              "      <td>-1.175575</td>\n",
              "      <td>0.647376</td>\n",
              "      <td>-0.221929</td>\n",
              "      <td>0.062723</td>\n",
              "      <td>0.061458</td>\n",
              "      <td>123.50</td>\n",
              "      <td>0</td>\n",
              "    </tr>\n",
              "    <tr>\n",
              "      <th>4</th>\n",
              "      <td>2.0</td>\n",
              "      <td>-1.158233</td>\n",
              "      <td>0.877737</td>\n",
              "      <td>1.548718</td>\n",
              "      <td>0.403034</td>\n",
              "      <td>-0.407193</td>\n",
              "      <td>0.095921</td>\n",
              "      <td>0.592941</td>\n",
              "      <td>-0.270533</td>\n",
              "      <td>0.817739</td>\n",
              "      <td>...</td>\n",
              "      <td>-0.009431</td>\n",
              "      <td>0.798278</td>\n",
              "      <td>-0.137458</td>\n",
              "      <td>0.141267</td>\n",
              "      <td>-0.206010</td>\n",
              "      <td>0.502292</td>\n",
              "      <td>0.219422</td>\n",
              "      <td>0.215153</td>\n",
              "      <td>69.99</td>\n",
              "      <td>0</td>\n",
              "    </tr>\n",
              "  </tbody>\n",
              "</table>\n",
              "<p>5 rows × 31 columns</p>\n",
              "</div>\n",
              "      <button class=\"colab-df-convert\" onclick=\"convertToInteractive('df-412d4d80-f31e-4675-becc-ccff3223e7b5')\"\n",
              "              title=\"Convert this dataframe to an interactive table.\"\n",
              "              style=\"display:none;\">\n",
              "        \n",
              "  <svg xmlns=\"http://www.w3.org/2000/svg\" height=\"24px\"viewBox=\"0 0 24 24\"\n",
              "       width=\"24px\">\n",
              "    <path d=\"M0 0h24v24H0V0z\" fill=\"none\"/>\n",
              "    <path d=\"M18.56 5.44l.94 2.06.94-2.06 2.06-.94-2.06-.94-.94-2.06-.94 2.06-2.06.94zm-11 1L8.5 8.5l.94-2.06 2.06-.94-2.06-.94L8.5 2.5l-.94 2.06-2.06.94zm10 10l.94 2.06.94-2.06 2.06-.94-2.06-.94-.94-2.06-.94 2.06-2.06.94z\"/><path d=\"M17.41 7.96l-1.37-1.37c-.4-.4-.92-.59-1.43-.59-.52 0-1.04.2-1.43.59L10.3 9.45l-7.72 7.72c-.78.78-.78 2.05 0 2.83L4 21.41c.39.39.9.59 1.41.59.51 0 1.02-.2 1.41-.59l7.78-7.78 2.81-2.81c.8-.78.8-2.07 0-2.86zM5.41 20L4 18.59l7.72-7.72 1.47 1.35L5.41 20z\"/>\n",
              "  </svg>\n",
              "      </button>\n",
              "      \n",
              "  <style>\n",
              "    .colab-df-container {\n",
              "      display:flex;\n",
              "      flex-wrap:wrap;\n",
              "      gap: 12px;\n",
              "    }\n",
              "\n",
              "    .colab-df-convert {\n",
              "      background-color: #E8F0FE;\n",
              "      border: none;\n",
              "      border-radius: 50%;\n",
              "      cursor: pointer;\n",
              "      display: none;\n",
              "      fill: #1967D2;\n",
              "      height: 32px;\n",
              "      padding: 0 0 0 0;\n",
              "      width: 32px;\n",
              "    }\n",
              "\n",
              "    .colab-df-convert:hover {\n",
              "      background-color: #E2EBFA;\n",
              "      box-shadow: 0px 1px 2px rgba(60, 64, 67, 0.3), 0px 1px 3px 1px rgba(60, 64, 67, 0.15);\n",
              "      fill: #174EA6;\n",
              "    }\n",
              "\n",
              "    [theme=dark] .colab-df-convert {\n",
              "      background-color: #3B4455;\n",
              "      fill: #D2E3FC;\n",
              "    }\n",
              "\n",
              "    [theme=dark] .colab-df-convert:hover {\n",
              "      background-color: #434B5C;\n",
              "      box-shadow: 0px 1px 3px 1px rgba(0, 0, 0, 0.15);\n",
              "      filter: drop-shadow(0px 1px 2px rgba(0, 0, 0, 0.3));\n",
              "      fill: #FFFFFF;\n",
              "    }\n",
              "  </style>\n",
              "\n",
              "      <script>\n",
              "        const buttonEl =\n",
              "          document.querySelector('#df-412d4d80-f31e-4675-becc-ccff3223e7b5 button.colab-df-convert');\n",
              "        buttonEl.style.display =\n",
              "          google.colab.kernel.accessAllowed ? 'block' : 'none';\n",
              "\n",
              "        async function convertToInteractive(key) {\n",
              "          const element = document.querySelector('#df-412d4d80-f31e-4675-becc-ccff3223e7b5');\n",
              "          const dataTable =\n",
              "            await google.colab.kernel.invokeFunction('convertToInteractive',\n",
              "                                                     [key], {});\n",
              "          if (!dataTable) return;\n",
              "\n",
              "          const docLinkHtml = 'Like what you see? Visit the ' +\n",
              "            '<a target=\"_blank\" href=https://colab.research.google.com/notebooks/data_table.ipynb>data table notebook</a>'\n",
              "            + ' to learn more about interactive tables.';\n",
              "          element.innerHTML = '';\n",
              "          dataTable['output_type'] = 'display_data';\n",
              "          await google.colab.output.renderOutput(dataTable, element);\n",
              "          const docLink = document.createElement('div');\n",
              "          docLink.innerHTML = docLinkHtml;\n",
              "          element.appendChild(docLink);\n",
              "        }\n",
              "      </script>\n",
              "    </div>\n",
              "  </div>\n",
              "  "
            ]
          },
          "metadata": {},
          "execution_count": 9
        }
      ]
    },
    {
      "cell_type": "code",
      "metadata": {
        "colab": {
          "base_uri": "https://localhost:8080/"
        },
        "id": "SVcWJvq4kSV6",
        "outputId": "153c367a-7afe-44ea-b063-44a2f19436ac"
      },
      "source": [
        "data.shape"
      ],
      "execution_count": null,
      "outputs": [
        {
          "output_type": "execute_result",
          "data": {
            "text/plain": [
              "(284807, 31)"
            ]
          },
          "metadata": {},
          "execution_count": 10
        }
      ]
    },
    {
      "cell_type": "code",
      "metadata": {
        "colab": {
          "base_uri": "https://localhost:8080/"
        },
        "id": "MDXn4-N7kSV7",
        "outputId": "2c43da23-4cb1-4512-a2f0-30d1ce4646ab"
      },
      "source": [
        "data.isnull().sum()"
      ],
      "execution_count": null,
      "outputs": [
        {
          "output_type": "execute_result",
          "data": {
            "text/plain": [
              "Time      0\n",
              "V1        0\n",
              "V2        0\n",
              "V3        0\n",
              "V4        0\n",
              "V5        0\n",
              "V6        0\n",
              "V7        0\n",
              "V8        0\n",
              "V9        0\n",
              "V10       0\n",
              "V11       0\n",
              "V12       0\n",
              "V13       0\n",
              "V14       0\n",
              "V15       0\n",
              "V16       0\n",
              "V17       0\n",
              "V18       0\n",
              "V19       0\n",
              "V20       0\n",
              "V21       0\n",
              "V22       0\n",
              "V23       0\n",
              "V24       0\n",
              "V25       0\n",
              "V26       0\n",
              "V27       0\n",
              "V28       0\n",
              "Amount    0\n",
              "Class     0\n",
              "dtype: int64"
            ]
          },
          "metadata": {},
          "execution_count": 11
        }
      ]
    },
    {
      "cell_type": "code",
      "metadata": {
        "scrolled": true,
        "colab": {
          "base_uri": "https://localhost:8080/"
        },
        "id": "VlccuiIakSV8",
        "outputId": "a2bb93cf-0816-405a-c3d0-e8920bcfc702"
      },
      "source": [
        "data.info()"
      ],
      "execution_count": null,
      "outputs": [
        {
          "output_type": "stream",
          "name": "stdout",
          "text": [
            "<class 'pandas.core.frame.DataFrame'>\n",
            "RangeIndex: 284807 entries, 0 to 284806\n",
            "Data columns (total 31 columns):\n",
            " #   Column  Non-Null Count   Dtype  \n",
            "---  ------  --------------   -----  \n",
            " 0   Time    284807 non-null  float64\n",
            " 1   V1      284807 non-null  float64\n",
            " 2   V2      284807 non-null  float64\n",
            " 3   V3      284807 non-null  float64\n",
            " 4   V4      284807 non-null  float64\n",
            " 5   V5      284807 non-null  float64\n",
            " 6   V6      284807 non-null  float64\n",
            " 7   V7      284807 non-null  float64\n",
            " 8   V8      284807 non-null  float64\n",
            " 9   V9      284807 non-null  float64\n",
            " 10  V10     284807 non-null  float64\n",
            " 11  V11     284807 non-null  float64\n",
            " 12  V12     284807 non-null  float64\n",
            " 13  V13     284807 non-null  float64\n",
            " 14  V14     284807 non-null  float64\n",
            " 15  V15     284807 non-null  float64\n",
            " 16  V16     284807 non-null  float64\n",
            " 17  V17     284807 non-null  float64\n",
            " 18  V18     284807 non-null  float64\n",
            " 19  V19     284807 non-null  float64\n",
            " 20  V20     284807 non-null  float64\n",
            " 21  V21     284807 non-null  float64\n",
            " 22  V22     284807 non-null  float64\n",
            " 23  V23     284807 non-null  float64\n",
            " 24  V24     284807 non-null  float64\n",
            " 25  V25     284807 non-null  float64\n",
            " 26  V26     284807 non-null  float64\n",
            " 27  V27     284807 non-null  float64\n",
            " 28  V28     284807 non-null  float64\n",
            " 29  Amount  284807 non-null  float64\n",
            " 30  Class   284807 non-null  int64  \n",
            "dtypes: float64(30), int64(1)\n",
            "memory usage: 67.4 MB\n"
          ]
        }
      ]
    },
    {
      "cell_type": "code",
      "metadata": {
        "colab": {
          "base_uri": "https://localhost:8080/"
        },
        "id": "9o8pz-T6kSV8",
        "outputId": "7bfcd0a8-854e-4c97-96b5-3b4b801a073d"
      },
      "source": [
        "data['Class'].value_counts()"
      ],
      "execution_count": null,
      "outputs": [
        {
          "output_type": "execute_result",
          "data": {
            "text/plain": [
              "0    284315\n",
              "1       492\n",
              "Name: Class, dtype: int64"
            ]
          },
          "metadata": {},
          "execution_count": 13
        }
      ]
    },
    {
      "cell_type": "markdown",
      "metadata": {
        "id": "_AnJPijLnPO8"
      },
      "source": [
        "import warnings as wrng\n",
        "wrng.filterwarnings(\"ignore\")\n",
        "plt.figure(filesize=(12,6))\n",
        "sns.countplot(data[\"Class\"])"
      ]
    },
    {
      "cell_type": "code",
      "metadata": {
        "colab": {
          "base_uri": "https://localhost:8080/",
          "height": 405
        },
        "id": "ckx3zaLhvI0D",
        "outputId": "52e7f19b-b1f4-455b-a279-9fd6465c44fc"
      },
      "source": [
        "import warnings as wrng\n",
        "wrng.filterwarnings(\"ignore\")\n",
        "pylt.figure(figsize=(12,6))\n",
        "sns.countplot(data[\"Class\"])"
      ],
      "execution_count": null,
      "outputs": [
        {
          "output_type": "execute_result",
          "data": {
            "text/plain": [
              "<matplotlib.axes._subplots.AxesSubplot at 0x7f7cdc616f10>"
            ]
          },
          "metadata": {},
          "execution_count": 14
        },
        {
          "output_type": "display_data",
          "data": {
            "text/plain": [
              "<Figure size 864x432 with 1 Axes>"
            ],
            "image/png": "[encoded data removed]"
          },
          "metadata": {
            "needs_background": "light"
          }
        }
      ]
    },
    {
      "cell_type": "markdown",
      "metadata": {
        "id": "sPN1iSpWkSV9"
      },
      "source": [
        "### Balance Dataset "
      ]
    },
    {
      "cell_type": "code",
      "metadata": {
        "id": "0T9wtTbqkSV9"
      },
      "source": [
        "non_fraud = data[data['Class']==0]\n",
        "fraud = data[data['Class']==1]"
      ],
      "execution_count": null,
      "outputs": []
    },
    {
      "cell_type": "code",
      "metadata": {
        "colab": {
          "base_uri": "https://localhost:8080/"
        },
        "id": "5S_4MzsekSV-",
        "outputId": "8f46271c-54c6-45d8-f35d-92fca13c830e"
      },
      "source": [
        "non_fraud.shape, fraud.shape"
      ],
      "execution_count": null,
      "outputs": [
        {
          "output_type": "execute_result",
          "data": {
            "text/plain": [
              "((284315, 31), (492, 31))"
            ]
          },
          "metadata": {},
          "execution_count": 16
        }
      ]
    },
    {
      "cell_type": "code",
      "metadata": {
        "colab": {
          "base_uri": "https://localhost:8080/"
        },
        "id": "MWJNoZlmkSV-",
        "outputId": "0aec7b2b-b5d2-4287-e2a0-e6bd8a744178"
      },
      "source": [
        "non_fraud = non_fraud.sample(fraud.shape[0])\n",
        "non_fraud.shape"
      ],
      "execution_count": null,
      "outputs": [
        {
          "output_type": "execute_result",
          "data": {
            "text/plain": [
              "(492, 31)"
            ]
          },
          "metadata": {},
          "execution_count": 17
        }
      ]
    },
    {
      "cell_type": "code",
      "metadata": {
        "colab": {
          "base_uri": "https://localhost:8080/",
          "height": 488
        },
        "id": "pfI4yJnFkSV-",
        "outputId": "f82e38dc-3066-41e3-9c87-54270d3bbd11"
      },
      "source": [
        "data = fraud.append(non_fraud, ignore_index=True)\n",
        "data"
      ],
      "execution_count": null,
      "outputs": [
        {
          "output_type": "execute_result",
          "data": {
            "text/plain": [
              "         Time        V1        V2        V3        V4        V5        V6  \\\n",
              "0       406.0 -2.312227  1.951992 -1.609851  3.997906 -0.522188 -1.426545   \n",
              "1       472.0 -3.043541 -3.157307  1.088463  2.288644  1.359805 -1.064823   \n",
              "2      4462.0 -2.303350  1.759247 -0.359745  2.330243 -0.821628 -0.075788   \n",
              "3      6986.0 -4.397974  1.358367 -2.592844  2.679787 -1.128131 -1.706536   \n",
              "4      7519.0  1.234235  3.019740 -4.304597  4.732795  3.624201 -1.357746   \n",
              "..        ...       ...       ...       ...       ...       ...       ...   \n",
              "979  120707.0 -1.929280  0.179190 -1.524234  0.728142  1.779941 -0.738540   \n",
              "980  117694.0  1.768002 -0.912038 -1.650500 -0.420553  1.423205  4.033393   \n",
              "981   37901.0 -2.675689 -1.005687  2.002295  0.538870  1.400861  0.396696   \n",
              "982   51840.0 -1.959866  0.677107  0.820685 -1.382464  0.026193 -0.619171   \n",
              "983  119837.0  2.047728  0.593464 -2.364612  0.780188  0.527999 -1.816717   \n",
              "\n",
              "           V7        V8        V9  ...       V21       V22       V23  \\\n",
              "0   -2.537387  1.391657 -2.770089  ...  0.517232 -0.035049 -0.465211   \n",
              "1    0.325574 -0.067794 -0.270953  ...  0.661696  0.435477  1.375966   \n",
              "2    0.562320 -0.399147 -0.238253  ... -0.294166 -0.932391  0.172726   \n",
              "3   -3.496197 -0.248778 -0.247768  ...  0.573574  0.176968 -0.436207   \n",
              "4    1.713445 -0.496358 -1.282858  ... -0.379068 -0.704181 -0.656805   \n",
              "..        ...       ...       ...  ...       ...       ...       ...   \n",
              "979  1.486861 -0.522898 -0.108906  ... -0.191456  0.477060  0.643578   \n",
              "980 -1.600418  1.190862  1.344622  ...  0.190364  0.445949  0.189102   \n",
              "981  0.248362 -0.527428  0.811113  ... -0.345788  0.397570 -0.661434   \n",
              "982  0.064689 -0.228891 -1.163240  ... -0.177902 -0.438260 -0.039308   \n",
              "983  0.379944 -0.415070  0.499961  ...  0.098624  0.490856 -0.047039   \n",
              "\n",
              "          V24       V25       V26       V27       V28  Amount  Class  \n",
              "0    0.320198  0.044519  0.177840  0.261145 -0.143276    0.00      1  \n",
              "1   -0.293803  0.279798 -0.145362 -0.252773  0.035764  529.00      1  \n",
              "2   -0.087330 -0.156114 -0.542628  0.039566 -0.153029  239.93      1  \n",
              "3   -0.053502  0.252405 -0.657488 -0.827136  0.849573   59.00      1  \n",
              "4   -1.632653  1.488901  0.566797 -0.010016  0.146793    1.00      1  \n",
              "..        ...       ...       ...       ...       ...     ...    ...  \n",
              "979  0.587612  0.439452 -0.633789 -0.661845  0.257413   50.57      0  \n",
              "980  0.640561 -0.536210  0.524341  0.031902  0.003719   92.40      0  \n",
              "981 -0.144777  0.110089  0.598569 -1.066019  0.281842   60.00      0  \n",
              "982 -0.516998  0.293095 -0.487595 -0.999659 -0.256904   12.00      0  \n",
              "983 -0.166766  0.258493 -0.103353  0.020459  0.008040    1.00      0  \n",
              "\n",
              "[984 rows x 31 columns]"
            ],
            "text/html": [
              "\n",
              "  <div id=\"df-07a355bb-eec3-4d62-a74c-cb133772ec30\">\n",
              "    <div class=\"colab-df-container\">\n",
              "      <div>\n",
              "<style scoped>\n",
              "    .dataframe tbody tr th:only-of-type {\n",
              "        vertical-align: middle;\n",
              "    }\n",
              "\n",
              "    .dataframe tbody tr th {\n",
              "        vertical-align: top;\n",
              "    }\n",
              "\n",
              "    .dataframe thead th {\n",
              "        text-align: right;\n",
              "    }\n",
              "</style>\n",
              "<table border=\"1\" class=\"dataframe\">\n",
              "  <thead>\n",
              "    <tr style=\"text-align: right;\">\n",
              "      <th></th>\n",
              "      <th>Time</th>\n",
              "      <th>V1</th>\n",
              "      <th>V2</th>\n",
              "      <th>V3</th>\n",
              "      <th>V4</th>\n",
              "      <th>V5</th>\n",
              "      <th>V6</th>\n",
              "      <th>V7</th>\n",
              "      <th>V8</th>\n",
              "      <th>V9</th>\n",
              "      <th>...</th>\n",
              "      <th>V21</th>\n",
              "      <th>V22</th>\n",
              "      <th>V23</th>\n",
              "      <th>V24</th>\n",
              "      <th>V25</th>\n",
              "      <th>V26</th>\n",
              "      <th>V27</th>\n",
              "      <th>V28</th>\n",
              "      <th>Amount</th>\n",
              "      <th>Class</th>\n",
              "    </tr>\n",
              "  </thead>\n",
              "  <tbody>\n",
              "    <tr>\n",
              "      <th>0</th>\n",
              "      <td>406.0</td>\n",
              "      <td>-2.312227</td>\n",
              "      <td>1.951992</td>\n",
              "      <td>-1.609851</td>\n",
              "      <td>3.997906</td>\n",
              "      <td>-0.522188</td>\n",
              "      <td>-1.426545</td>\n",
              "      <td>-2.537387</td>\n",
              "      <td>1.391657</td>\n",
              "      <td>-2.770089</td>\n",
              "      <td>...</td>\n",
              "      <td>0.517232</td>\n",
              "      <td>-0.035049</td>\n",
              "      <td>-0.465211</td>\n",
              "      <td>0.320198</td>\n",
              "      <td>0.044519</td>\n",
              "      <td>0.177840</td>\n",
              "      <td>0.261145</td>\n",
              "      <td>-0.143276</td>\n",
              "      <td>0.00</td>\n",
              "      <td>1</td>\n",
              "    </tr>\n",
              "    <tr>\n",
              "      <th>1</th>\n",
              "      <td>472.0</td>\n",
              "      <td>-3.043541</td>\n",
              "      <td>-3.157307</td>\n",
              "      <td>1.088463</td>\n",
              "      <td>2.288644</td>\n",
              "      <td>1.359805</td>\n",
              "      <td>-1.064823</td>\n",
              "      <td>0.325574</td>\n",
              "      <td>-0.067794</td>\n",
              "      <td>-0.270953</td>\n",
              "      <td>...</td>\n",
              "      <td>0.661696</td>\n",
              "      <td>0.435477</td>\n",
              "      <td>1.375966</td>\n",
              "      <td>-0.293803</td>\n",
              "      <td>0.279798</td>\n",
              "      <td>-0.145362</td>\n",
              "      <td>-0.252773</td>\n",
              "      <td>0.035764</td>\n",
              "      <td>529.00</td>\n",
              "      <td>1</td>\n",
              "    </tr>\n",
              "    <tr>\n",
              "      <th>2</th>\n",
              "      <td>4462.0</td>\n",
              "      <td>-2.303350</td>\n",
              "      <td>1.759247</td>\n",
              "      <td>-0.359745</td>\n",
              "      <td>2.330243</td>\n",
              "      <td>-0.821628</td>\n",
              "      <td>-0.075788</td>\n",
              "      <td>0.562320</td>\n",
              "      <td>-0.399147</td>\n",
              "      <td>-0.238253</td>\n",
              "      <td>...</td>\n",
              "      <td>-0.294166</td>\n",
              "      <td>-0.932391</td>\n",
              "      <td>0.172726</td>\n",
              "      <td>-0.087330</td>\n",
              "      <td>-0.156114</td>\n",
              "      <td>-0.542628</td>\n",
              "      <td>0.039566</td>\n",
              "      <td>-0.153029</td>\n",
              "      <td>239.93</td>\n",
              "      <td>1</td>\n",
              "    </tr>\n",
              "    <tr>\n",
              "      <th>3</th>\n",
              "      <td>6986.0</td>\n",
              "      <td>-4.397974</td>\n",
              "      <td>1.358367</td>\n",
              "      <td>-2.592844</td>\n",
              "      <td>2.679787</td>\n",
              "      <td>-1.128131</td>\n",
              "      <td>-1.706536</td>\n",
              "      <td>-3.496197</td>\n",
              "      <td>-0.248778</td>\n",
              "      <td>-0.247768</td>\n",
              "      <td>...</td>\n",
              "      <td>0.573574</td>\n",
              "      <td>0.176968</td>\n",
              "      <td>-0.436207</td>\n",
              "      <td>-0.053502</td>\n",
              "      <td>0.252405</td>\n",
              "      <td>-0.657488</td>\n",
              "      <td>-0.827136</td>\n",
              "      <td>0.849573</td>\n",
              "      <td>59.00</td>\n",
              "      <td>1</td>\n",
              "    </tr>\n",
              "    <tr>\n",
              "      <th>4</th>\n",
              "      <td>7519.0</td>\n",
              "      <td>1.234235</td>\n",
              "      <td>3.019740</td>\n",
              "      <td>-4.304597</td>\n",
              "      <td>4.732795</td>\n",
              "      <td>3.624201</td>\n",
              "      <td>-1.357746</td>\n",
              "      <td>1.713445</td>\n",
              "      <td>-0.496358</td>\n",
              "      <td>-1.282858</td>\n",
              "      <td>...</td>\n",
              "      <td>-0.379068</td>\n",
              "      <td>-0.704181</td>\n",
              "      <td>-0.656805</td>\n",
              "      <td>-1.632653</td>\n",
              "      <td>1.488901</td>\n",
              "      <td>0.566797</td>\n",
              "      <td>-0.010016</td>\n",
              "      <td>0.146793</td>\n",
              "      <td>1.00</td>\n",
              "      <td>1</td>\n",
              "    </tr>\n",
              "    <tr>\n",
              "      <th>...</th>\n",
              "      <td>...</td>\n",
              "      <td>...</td>\n",
              "      <td>...</td>\n",
              "      <td>...</td>\n",
              "      <td>...</td>\n",
              "      <td>...</td>\n",
              "      <td>...</td>\n",
              "      <td>...</td>\n",
              "      <td>...</td>\n",
              "      <td>...</td>\n",
              "      <td>...</td>\n",
              "      <td>...</td>\n",
              "      <td>...</td>\n",
              "      <td>...</td>\n",
              "      <td>...</td>\n",
              "      <td>...</td>\n",
              "      <td>...</td>\n",
              "      <td>...</td>\n",
              "      <td>...</td>\n",
              "      <td>...</td>\n",
              "      <td>...</td>\n",
              "    </tr>\n",
              "    <tr>\n",
              "      <th>979</th>\n",
              "      <td>120707.0</td>\n",
              "      <td>-1.929280</td>\n",
              "      <td>0.179190</td>\n",
              "      <td>-1.524234</td>\n",
              "      <td>0.728142</td>\n",
              "      <td>1.779941</td>\n",
              "      <td>-0.738540</td>\n",
              "      <td>1.486861</td>\n",
              "      <td>-0.522898</td>\n",
              "      <td>-0.108906</td>\n",
              "      <td>...</td>\n",
              "      <td>-0.191456</td>\n",
              "      <td>0.477060</td>\n",
              "      <td>0.643578</td>\n",
              "      <td>0.587612</td>\n",
              "      <td>0.439452</td>\n",
              "      <td>-0.633789</td>\n",
              "      <td>-0.661845</td>\n",
              "      <td>0.257413</td>\n",
              "      <td>50.57</td>\n",
              "      <td>0</td>\n",
              "    </tr>\n",
              "    <tr>\n",
              "      <th>980</th>\n",
              "      <td>117694.0</td>\n",
              "      <td>1.768002</td>\n",
              "      <td>-0.912038</td>\n",
              "      <td>-1.650500</td>\n",
              "      <td>-0.420553</td>\n",
              "      <td>1.423205</td>\n",
              "      <td>4.033393</td>\n",
              "      <td>-1.600418</td>\n",
              "      <td>1.190862</td>\n",
              "      <td>1.344622</td>\n",
              "      <td>...</td>\n",
              "      <td>0.190364</td>\n",
              "      <td>0.445949</td>\n",
              "      <td>0.189102</td>\n",
              "      <td>0.640561</td>\n",
              "      <td>-0.536210</td>\n",
              "      <td>0.524341</td>\n",
              "      <td>0.031902</td>\n",
              "      <td>0.003719</td>\n",
              "      <td>92.40</td>\n",
              "      <td>0</td>\n",
              "    </tr>\n",
              "    <tr>\n",
              "      <th>981</th>\n",
              "      <td>37901.0</td>\n",
              "      <td>-2.675689</td>\n",
              "      <td>-1.005687</td>\n",
              "      <td>2.002295</td>\n",
              "      <td>0.538870</td>\n",
              "      <td>1.400861</td>\n",
              "      <td>0.396696</td>\n",
              "      <td>0.248362</td>\n",
              "      <td>-0.527428</td>\n",
              "      <td>0.811113</td>\n",
              "      <td>...</td>\n",
              "      <td>-0.345788</td>\n",
              "      <td>0.397570</td>\n",
              "      <td>-0.661434</td>\n",
              "      <td>-0.144777</td>\n",
              "      <td>0.110089</td>\n",
              "      <td>0.598569</td>\n",
              "      <td>-1.066019</td>\n",
              "      <td>0.281842</td>\n",
              "      <td>60.00</td>\n",
              "      <td>0</td>\n",
              "    </tr>\n",
              "    <tr>\n",
              "      <th>982</th>\n",
              "      <td>51840.0</td>\n",
              "      <td>-1.959866</td>\n",
              "      <td>0.677107</td>\n",
              "      <td>0.820685</td>\n",
              "      <td>-1.382464</td>\n",
              "      <td>0.026193</td>\n",
              "      <td>-0.619171</td>\n",
              "      <td>0.064689</td>\n",
              "      <td>-0.228891</td>\n",
              "      <td>-1.163240</td>\n",
              "      <td>...</td>\n",
              "      <td>-0.177902</td>\n",
              "      <td>-0.438260</td>\n",
              "      <td>-0.039308</td>\n",
              "      <td>-0.516998</td>\n",
              "      <td>0.293095</td>\n",
              "      <td>-0.487595</td>\n",
              "      <td>-0.999659</td>\n",
              "      <td>-0.256904</td>\n",
              "      <td>12.00</td>\n",
              "      <td>0</td>\n",
              "    </tr>\n",
              "    <tr>\n",
              "      <th>983</th>\n",
              "      <td>119837.0</td>\n",
              "      <td>2.047728</td>\n",
              "      <td>0.593464</td>\n",
              "      <td>-2.364612</td>\n",
              "      <td>0.780188</td>\n",
              "      <td>0.527999</td>\n",
              "      <td>-1.816717</td>\n",
              "      <td>0.379944</td>\n",
              "      <td>-0.415070</td>\n",
              "      <td>0.499961</td>\n",
              "      <td>...</td>\n",
              "      <td>0.098624</td>\n",
              "      <td>0.490856</td>\n",
              "      <td>-0.047039</td>\n",
              "      <td>-0.166766</td>\n",
              "      <td>0.258493</td>\n",
              "      <td>-0.103353</td>\n",
              "      <td>0.020459</td>\n",
              "      <td>0.008040</td>\n",
              "      <td>1.00</td>\n",
              "      <td>0</td>\n",
              "    </tr>\n",
              "  </tbody>\n",
              "</table>\n",
              "<p>984 rows × 31 columns</p>\n",
              "</div>\n",
              "      <button class=\"colab-df-convert\" onclick=\"convertToInteractive('df-07a355bb-eec3-4d62-a74c-cb133772ec30')\"\n",
              "              title=\"Convert this dataframe to an interactive table.\"\n",
              "              style=\"display:none;\">\n",
              "        \n",
              "  <svg xmlns=\"http://www.w3.org/2000/svg\" height=\"24px\"viewBox=\"0 0 24 24\"\n",
              "       width=\"24px\">\n",
              "    <path d=\"M0 0h24v24H0V0z\" fill=\"none\"/>\n",
              "    <path d=\"M18.56 5.44l.94 2.06.94-2.06 2.06-.94-2.06-.94-.94-2.06-.94 2.06-2.06.94zm-11 1L8.5 8.5l.94-2.06 2.06-.94-2.06-.94L8.5 2.5l-.94 2.06-2.06.94zm10 10l.94 2.06.94-2.06 2.06-.94-2.06-.94-.94-2.06-.94 2.06-2.06.94z\"/><path d=\"M17.41 7.96l-1.37-1.37c-.4-.4-.92-.59-1.43-.59-.52 0-1.04.2-1.43.59L10.3 9.45l-7.72 7.72c-.78.78-.78 2.05 0 2.83L4 21.41c.39.39.9.59 1.41.59.51 0 1.02-.2 1.41-.59l7.78-7.78 2.81-2.81c.8-.78.8-2.07 0-2.86zM5.41 20L4 18.59l7.72-7.72 1.47 1.35L5.41 20z\"/>\n",
              "  </svg>\n",
              "      </button>\n",
              "      \n",
              "  <style>\n",
              "    .colab-df-container {\n",
              "      display:flex;\n",
              "      flex-wrap:wrap;\n",
              "      gap: 12px;\n",
              "    }\n",
              "\n",
              "    .colab-df-convert {\n",
              "      background-color: #E8F0FE;\n",
              "      border: none;\n",
              "      border-radius: 50%;\n",
              "      cursor: pointer;\n",
              "      display: none;\n",
              "      fill: #1967D2;\n",
              "      height: 32px;\n",
              "      padding: 0 0 0 0;\n",
              "      width: 32px;\n",
              "    }\n",
              "\n",
              "    .colab-df-convert:hover {\n",
              "      background-color: #E2EBFA;\n",
              "      box-shadow: 0px 1px 2px rgba(60, 64, 67, 0.3), 0px 1px 3px 1px rgba(60, 64, 67, 0.15);\n",
              "      fill: #174EA6;\n",
              "    }\n",
              "\n",
              "    [theme=dark] .colab-df-convert {\n",
              "      background-color: #3B4455;\n",
              "      fill: #D2E3FC;\n",
              "    }\n",
              "\n",
              "    [theme=dark] .colab-df-convert:hover {\n",
              "      background-color: #434B5C;\n",
              "      box-shadow: 0px 1px 3px 1px rgba(0, 0, 0, 0.15);\n",
              "      filter: drop-shadow(0px 1px 2px rgba(0, 0, 0, 0.3));\n",
              "      fill: #FFFFFF;\n",
              "    }\n",
              "  </style>\n",
              "\n",
              "      <script>\n",
              "        const buttonEl =\n",
              "          document.querySelector('#df-07a355bb-eec3-4d62-a74c-cb133772ec30 button.colab-df-convert');\n",
              "        buttonEl.style.display =\n",
              "          google.colab.kernel.accessAllowed ? 'block' : 'none';\n",
              "\n",
              "        async function convertToInteractive(key) {\n",
              "          const element = document.querySelector('#df-07a355bb-eec3-4d62-a74c-cb133772ec30');\n",
              "          const dataTable =\n",
              "            await google.colab.kernel.invokeFunction('convertToInteractive',\n",
              "                                                     [key], {});\n",
              "          if (!dataTable) return;\n",
              "\n",
              "          const docLinkHtml = 'Like what you see? Visit the ' +\n",
              "            '<a target=\"_blank\" href=https://colab.research.google.com/notebooks/data_table.ipynb>data table notebook</a>'\n",
              "            + ' to learn more about interactive tables.';\n",
              "          element.innerHTML = '';\n",
              "          dataTable['output_type'] = 'display_data';\n",
              "          await google.colab.output.renderOutput(dataTable, element);\n",
              "          const docLink = document.createElement('div');\n",
              "          docLink.innerHTML = docLinkHtml;\n",
              "          element.appendChild(docLink);\n",
              "        }\n",
              "      </script>\n",
              "    </div>\n",
              "  </div>\n",
              "  "
            ]
          },
          "metadata": {},
          "execution_count": 18
        }
      ]
    },
    {
      "cell_type": "code",
      "metadata": {
        "colab": {
          "base_uri": "https://localhost:8080/"
        },
        "id": "18C6jmM6kSV_",
        "outputId": "097238e2-c006-42d5-c354-673e3e3c46c6"
      },
      "source": [
        "data['Class'].value_counts()"
      ],
      "execution_count": null,
      "outputs": [
        {
          "output_type": "execute_result",
          "data": {
            "text/plain": [
              "1    492\n",
              "0    492\n",
              "Name: Class, dtype: int64"
            ]
          },
          "metadata": {},
          "execution_count": 19
        }
      ]
    },
    {
      "cell_type": "code",
      "metadata": {
        "id": "oDT8BrIft6yp"
      },
      "source": [
        "X = data.drop('Class',axis=1)\n",
        "Y = data['Class']"
      ],
      "execution_count": null,
      "outputs": []
    },
    {
      "cell_type": "code",
      "metadata": {
        "colab": {
          "base_uri": "https://localhost:8080/",
          "height": 405
        },
        "id": "ie8aq3G2uLXj",
        "outputId": "18b95ed0-aa75-4cc1-b1de-bb5d57a44848"
      },
      "source": [
        "pylt.figure(figsize=(12,6))\n",
        "sns.countplot(Y)"
      ],
      "execution_count": null,
      "outputs": [
        {
          "output_type": "execute_result",
          "data": {
            "text/plain": [
              "<matplotlib.axes._subplots.AxesSubplot at 0x7f7cdc482a50>"
            ]
          },
          "metadata": {},
          "execution_count": 21
        },
        {
          "output_type": "display_data",
          "data": {
            "text/plain": [
              "<Figure size 864x432 with 1 Axes>"
            ],
            "image/png": "[encoded data removed]"
          },
          "metadata": {
            "needs_background": "light"
          }
        }
      ]
    },
    {
      "cell_type": "code",
      "metadata": {
        "id": "bPs4KZcBkSV_"
      },
      "source": [
        "X = data.drop('Class', axis = 1)\n",
        "y = data['Class']"
      ],
      "execution_count": null,
      "outputs": []
    },
    {
      "cell_type": "code",
      "metadata": {
        "id": "KXmWIQm_kSV_"
      },
      "source": [
        "X_train, X_test, y_train, y_test = train_test_split(X, y, test_size = 0.2, random_state = 0, stratify = y)"
      ],
      "execution_count": null,
      "outputs": []
    },
    {
      "cell_type": "code",
      "metadata": {
        "colab": {
          "base_uri": "https://localhost:8080/"
        },
        "id": "8xAsb8u5kSWA",
        "outputId": "ece14a4c-63d7-4d6a-9196-1be6f5eed361"
      },
      "source": [
        "X_train.shape, X_test.shape"
      ],
      "execution_count": null,
      "outputs": [
        {
          "output_type": "execute_result",
          "data": {
            "text/plain": [
              "((787, 30), (197, 30))"
            ]
          },
          "metadata": {},
          "execution_count": 24
        }
      ]
    },
    {
      "cell_type": "code",
      "metadata": {
        "id": "IKYfb1xkkSWA"
      },
      "source": [
        "scaler = StandardScaler()\n",
        "X_train = scaler.fit_transform(X_train)\n",
        "X_test = scaler.transform(X_test)"
      ],
      "execution_count": null,
      "outputs": []
    },
    {
      "cell_type": "code",
      "metadata": {
        "id": "OOp_Wgx0kSWA"
      },
      "source": [
        "y_train = y_train.to_numpy()\n",
        "y_test = y_test.to_numpy()"
      ],
      "execution_count": null,
      "outputs": []
    },
    {
      "cell_type": "code",
      "metadata": {
        "colab": {
          "base_uri": "https://localhost:8080/"
        },
        "id": "ScGDNgJmkSWB",
        "outputId": "af88a3a1-6d9a-4ffb-bd81-0bec7537aab9"
      },
      "source": [
        "X_train.shape"
      ],
      "execution_count": null,
      "outputs": [
        {
          "output_type": "execute_result",
          "data": {
            "text/plain": [
              "(787, 30)"
            ]
          },
          "metadata": {},
          "execution_count": 27
        }
      ]
    },
    {
      "cell_type": "code",
      "metadata": {
        "id": "G6dzGmkhkSWB"
      },
      "source": [
        "X_train = X_train.reshape(X_train.shape[0], X_train.shape[1], 1)\n",
        "X_test = X_test.reshape(X_test.shape[0], X_test.shape[1], 1)"
      ],
      "execution_count": null,
      "outputs": []
    },
    {
      "cell_type": "code",
      "metadata": {
        "colab": {
          "base_uri": "https://localhost:8080/"
        },
        "id": "X2VlQdNSkSWB",
        "outputId": "1d858c90-55af-4f42-ac5e-2de8d9d4a243"
      },
      "source": [
        "X_train.shape, X_test.shape"
      ],
      "execution_count": null,
      "outputs": [
        {
          "output_type": "execute_result",
          "data": {
            "text/plain": [
              "((787, 30, 1), (197, 30, 1))"
            ]
          },
          "metadata": {},
          "execution_count": 29
        }
      ]
    },
    {
      "cell_type": "markdown",
      "metadata": {
        "id": "1nztSbuvkSWB"
      },
      "source": [
        "### Build CNN "
      ]
    },
    {
      "cell_type": "code",
      "metadata": {
        "id": "glWFLgEykSWC"
      },
      "source": [
        "epochs = 100\n",
        "model = Sequential()\n",
        "model.add(Conv1D(32, 2, activation='relu', input_shape = X_train[0].shape))\n",
        "model.add(BatchNormalization())\n",
        "model.add(Dropout(0.2))\n",
        "\n",
        "model.add(Conv1D(64, 2, activation='relu'))\n",
        "model.add(BatchNormalization())\n",
        "model.add(Dropout(0.5))\n",
        "\n",
        "model.add(Flatten())\n",
        "model.add(Dense(64, activation='relu'))\n",
        "model.add(Dropout(0.5))\n",
        "\n",
        "model.add(Dense(1, activation='sigmoid'))\n"
      ],
      "execution_count": null,
      "outputs": []
    },
    {
      "cell_type": "code",
      "metadata": {
        "colab": {
          "base_uri": "https://localhost:8080/"
        },
        "id": "2VdSwAHFkSWC",
        "outputId": "b338f684-9636-45cc-bec4-00aadf46e5d9"
      },
      "source": [
        "model.summary()"
      ],
      "execution_count": null,
      "outputs": [
        {
          "output_type": "stream",
          "name": "stdout",
          "text": [
            "Model: \"sequential_2\"\n",
            "_________________________________________________________________\n",
            " Layer (type)                Output Shape              Param #   \n",
            "=================================================================\n",
            " conv1d_4 (Conv1D)           (None, 29, 32)            96        \n",
            "                                                                 \n",
            " batch_normalization_4 (Batc  (None, 29, 32)           128       \n",
            " hNormalization)                                                 \n",
            "                                                                 \n",
            " dropout_6 (Dropout)         (None, 29, 32)            0         \n",
            "                                                                 \n",
            " conv1d_5 (Conv1D)           (None, 28, 64)            4160      \n",
            "                                                                 \n",
            " batch_normalization_5 (Batc  (None, 28, 64)           256       \n",
            " hNormalization)                                                 \n",
            "                                                                 \n",
            " dropout_7 (Dropout)         (None, 28, 64)            0         \n",
            "                                                                 \n",
            " flatten_2 (Flatten)         (None, 1792)              0         \n",
            "                                                                 \n",
            " dense_4 (Dense)             (None, 64)                114752    \n",
            "                                                                 \n",
            " dropout_8 (Dropout)         (None, 64)                0         \n",
            "                                                                 \n",
            " dense_5 (Dense)             (None, 1)                 65        \n",
            "                                                                 \n",
            "=================================================================\n",
            "Total params: 119,457\n",
            "Trainable params: 119,265\n",
            "Non-trainable params: 192\n",
            "_________________________________________________________________\n"
          ]
        }
      ]
    },
    {
      "cell_type": "code",
      "metadata": {
        "id": "2c2R-HkXkSWC"
      },
      "source": [
        "model.compile(optimizer=Adam(lr=0.0001), loss = 'binary_crossentropy', metrics=['accuracy'])"
      ],
      "execution_count": null,
      "outputs": []
    },
    {
      "cell_type": "code",
      "metadata": {
        "colab": {
          "base_uri": "https://localhost:8080/"
        },
        "id": "AMEC4-aikSWC",
        "outputId": "0b4ced52-fd09-40e5-89b9-73768bc63ecc"
      },
      "source": [
        "history = model.fit(X_train, y_train, epochs=epochs, validation_data=(X_test, y_test), verbose=1)"
      ],
      "execution_count": null,
      "outputs": [
        {
          "output_type": "stream",
          "name": "stdout",
          "text": [
            "Epoch 1/100\n",
            "25/25 [==============================] - 1s 16ms/step - loss: 0.9871 - accuracy: 0.6442 - val_loss: 0.6298 - val_accuracy: 0.7919\n",
            "Epoch 2/100\n",
            "25/25 [==============================] - 0s 8ms/step - loss: 0.5994 - accuracy: 0.7929 - val_loss: 0.5727 - val_accuracy: 0.8528\n",
            "Epoch 3/100\n",
            "25/25 [==============================] - 0s 8ms/step - loss: 0.4959 - accuracy: 0.8272 - val_loss: 0.5364 - val_accuracy: 0.8832\n",
            "Epoch 4/100\n",
            "25/25 [==============================] - 0s 9ms/step - loss: 0.4376 - accuracy: 0.8564 - val_loss: 0.4992 - val_accuracy: 0.8985\n",
            "Epoch 5/100\n",
            "25/25 [==============================] - 0s 8ms/step - loss: 0.3574 - accuracy: 0.8679 - val_loss: 0.4665 - val_accuracy: 0.9188\n",
            "Epoch 6/100\n",
            "25/25 [==============================] - 0s 8ms/step - loss: 0.3619 - accuracy: 0.8755 - val_loss: 0.4410 - val_accuracy: 0.8883\n",
            "Epoch 7/100\n",
            "25/25 [==============================] - 0s 8ms/step - loss: 0.3428 - accuracy: 0.8679 - val_loss: 0.4055 - val_accuracy: 0.8985\n",
            "Epoch 8/100\n",
            "25/25 [==============================] - 0s 8ms/step - loss: 0.2919 - accuracy: 0.9098 - val_loss: 0.3807 - val_accuracy: 0.8985\n",
            "Epoch 9/100\n",
            "25/25 [==============================] - 0s 8ms/step - loss: 0.3124 - accuracy: 0.8856 - val_loss: 0.3564 - val_accuracy: 0.8985\n",
            "Epoch 10/100\n",
            "25/25 [==============================] - 0s 8ms/step - loss: 0.2755 - accuracy: 0.8958 - val_loss: 0.3199 - val_accuracy: 0.9036\n",
            "Epoch 11/100\n",
            "25/25 [==============================] - 0s 7ms/step - loss: 0.2217 - accuracy: 0.9149 - val_loss: 0.2921 - val_accuracy: 0.8985\n",
            "Epoch 12/100\n",
            "25/25 [==============================] - 0s 9ms/step - loss: 0.2645 - accuracy: 0.9174 - val_loss: 0.2727 - val_accuracy: 0.8985\n",
            "Epoch 13/100\n",
            "25/25 [==============================] - 0s 8ms/step - loss: 0.2674 - accuracy: 0.9161 - val_loss: 0.2597 - val_accuracy: 0.8985\n",
            "Epoch 14/100\n",
            "25/25 [==============================] - 0s 8ms/step - loss: 0.2273 - accuracy: 0.9301 - val_loss: 0.2518 - val_accuracy: 0.8985\n",
            "Epoch 15/100\n",
            "25/25 [==============================] - 0s 8ms/step - loss: 0.2114 - accuracy: 0.9377 - val_loss: 0.2440 - val_accuracy: 0.8985\n",
            "Epoch 16/100\n",
            "25/25 [==============================] - 0s 9ms/step - loss: 0.2283 - accuracy: 0.9199 - val_loss: 0.2326 - val_accuracy: 0.8985\n",
            "Epoch 17/100\n",
            "25/25 [==============================] - 0s 8ms/step - loss: 0.2438 - accuracy: 0.9199 - val_loss: 0.2253 - val_accuracy: 0.8934\n",
            "Epoch 18/100\n",
            "25/25 [==============================] - 0s 9ms/step - loss: 0.2131 - accuracy: 0.9314 - val_loss: 0.2214 - val_accuracy: 0.8934\n",
            "Epoch 19/100\n",
            "25/25 [==============================] - 0s 9ms/step - loss: 0.2127 - accuracy: 0.9212 - val_loss: 0.2213 - val_accuracy: 0.8934\n",
            "Epoch 20/100\n",
            "25/25 [==============================] - 0s 8ms/step - loss: 0.1737 - accuracy: 0.9365 - val_loss: 0.2204 - val_accuracy: 0.8934\n",
            "Epoch 21/100\n",
            "25/25 [==============================] - 0s 8ms/step - loss: 0.2024 - accuracy: 0.9339 - val_loss: 0.2189 - val_accuracy: 0.8934\n",
            "Epoch 22/100\n",
            "25/25 [==============================] - 0s 8ms/step - loss: 0.2163 - accuracy: 0.9212 - val_loss: 0.2183 - val_accuracy: 0.9036\n",
            "Epoch 23/100\n",
            "25/25 [==============================] - 0s 8ms/step - loss: 0.1699 - accuracy: 0.9327 - val_loss: 0.2192 - val_accuracy: 0.9036\n",
            "Epoch 24/100\n",
            "25/25 [==============================] - 0s 8ms/step - loss: 0.1940 - accuracy: 0.9276 - val_loss: 0.2204 - val_accuracy: 0.8934\n",
            "Epoch 25/100\n",
            "25/25 [==============================] - 0s 8ms/step - loss: 0.1847 - accuracy: 0.9276 - val_loss: 0.2225 - val_accuracy: 0.8985\n",
            "Epoch 26/100\n",
            "25/25 [==============================] - 0s 7ms/step - loss: 0.1990 - accuracy: 0.9327 - val_loss: 0.2216 - val_accuracy: 0.8934\n",
            "Epoch 27/100\n",
            "25/25 [==============================] - 0s 8ms/step - loss: 0.1679 - accuracy: 0.9555 - val_loss: 0.2204 - val_accuracy: 0.8934\n",
            "Epoch 28/100\n",
            "25/25 [==============================] - 0s 8ms/step - loss: 0.1955 - accuracy: 0.9352 - val_loss: 0.2202 - val_accuracy: 0.8934\n",
            "Epoch 29/100\n",
            "25/25 [==============================] - 0s 8ms/step - loss: 0.1768 - accuracy: 0.9454 - val_loss: 0.2180 - val_accuracy: 0.9036\n",
            "Epoch 30/100\n",
            "25/25 [==============================] - 0s 8ms/step - loss: 0.1697 - accuracy: 0.9377 - val_loss: 0.2202 - val_accuracy: 0.8985\n",
            "Epoch 31/100\n",
            "25/25 [==============================] - 0s 8ms/step - loss: 0.1834 - accuracy: 0.9428 - val_loss: 0.2216 - val_accuracy: 0.8883\n",
            "Epoch 32/100\n",
            "25/25 [==============================] - 0s 8ms/step - loss: 0.1639 - accuracy: 0.9314 - val_loss: 0.2223 - val_accuracy: 0.8883\n",
            "Epoch 33/100\n",
            "25/25 [==============================] - 0s 8ms/step - loss: 0.1684 - accuracy: 0.9428 - val_loss: 0.2230 - val_accuracy: 0.8883\n",
            "Epoch 34/100\n",
            "25/25 [==============================] - 0s 8ms/step - loss: 0.1630 - accuracy: 0.9441 - val_loss: 0.2243 - val_accuracy: 0.8934\n",
            "Epoch 35/100\n",
            "25/25 [==============================] - 0s 8ms/step - loss: 0.1586 - accuracy: 0.9390 - val_loss: 0.2247 - val_accuracy: 0.8883\n",
            "Epoch 36/100\n",
            "25/25 [==============================] - 0s 7ms/step - loss: 0.1694 - accuracy: 0.9352 - val_loss: 0.2269 - val_accuracy: 0.8883\n",
            "Epoch 37/100\n",
            "25/25 [==============================] - 0s 8ms/step - loss: 0.1525 - accuracy: 0.9454 - val_loss: 0.2300 - val_accuracy: 0.8883\n",
            "Epoch 38/100\n",
            "25/25 [==============================] - 0s 8ms/step - loss: 0.1773 - accuracy: 0.9403 - val_loss: 0.2321 - val_accuracy: 0.8985\n",
            "Epoch 39/100\n",
            "25/25 [==============================] - 0s 8ms/step - loss: 0.1431 - accuracy: 0.9504 - val_loss: 0.2327 - val_accuracy: 0.8883\n",
            "Epoch 40/100\n",
            "25/25 [==============================] - 0s 8ms/step - loss: 0.1719 - accuracy: 0.9352 - val_loss: 0.2319 - val_accuracy: 0.8934\n",
            "Epoch 41/100\n",
            "25/25 [==============================] - 0s 8ms/step - loss: 0.1550 - accuracy: 0.9517 - val_loss: 0.2334 - val_accuracy: 0.8832\n",
            "Epoch 42/100\n",
            "25/25 [==============================] - 0s 8ms/step - loss: 0.1416 - accuracy: 0.9479 - val_loss: 0.2317 - val_accuracy: 0.8782\n",
            "Epoch 43/100\n",
            "25/25 [==============================] - 0s 8ms/step - loss: 0.1221 - accuracy: 0.9479 - val_loss: 0.2331 - val_accuracy: 0.8883\n",
            "Epoch 44/100\n",
            "25/25 [==============================] - 0s 8ms/step - loss: 0.1368 - accuracy: 0.9555 - val_loss: 0.2344 - val_accuracy: 0.8832\n",
            "Epoch 45/100\n",
            "25/25 [==============================] - 0s 9ms/step - loss: 0.1497 - accuracy: 0.9504 - val_loss: 0.2351 - val_accuracy: 0.8883\n",
            "Epoch 46/100\n",
            "25/25 [==============================] - 0s 8ms/step - loss: 0.1525 - accuracy: 0.9454 - val_loss: 0.2370 - val_accuracy: 0.8883\n",
            "Epoch 47/100\n",
            "25/25 [==============================] - 0s 8ms/step - loss: 0.1430 - accuracy: 0.9492 - val_loss: 0.2378 - val_accuracy: 0.8934\n",
            "Epoch 48/100\n",
            "25/25 [==============================] - 0s 8ms/step - loss: 0.1377 - accuracy: 0.9454 - val_loss: 0.2394 - val_accuracy: 0.8934\n",
            "Epoch 49/100\n",
            "25/25 [==============================] - 0s 8ms/step - loss: 0.1451 - accuracy: 0.9504 - val_loss: 0.2382 - val_accuracy: 0.8832\n",
            "Epoch 50/100\n",
            "25/25 [==============================] - 0s 8ms/step - loss: 0.1288 - accuracy: 0.9530 - val_loss: 0.2379 - val_accuracy: 0.8883\n",
            "Epoch 51/100\n",
            "25/25 [==============================] - 0s 8ms/step - loss: 0.1317 - accuracy: 0.9479 - val_loss: 0.2374 - val_accuracy: 0.8883\n",
            "Epoch 52/100\n",
            "25/25 [==============================] - 0s 8ms/step - loss: 0.1415 - accuracy: 0.9543 - val_loss: 0.2357 - val_accuracy: 0.8782\n",
            "Epoch 53/100\n",
            "25/25 [==============================] - 0s 7ms/step - loss: 0.1318 - accuracy: 0.9492 - val_loss: 0.2345 - val_accuracy: 0.8832\n",
            "Epoch 54/100\n",
            "25/25 [==============================] - 0s 7ms/step - loss: 0.1358 - accuracy: 0.9504 - val_loss: 0.2351 - val_accuracy: 0.8832\n",
            "Epoch 55/100\n",
            "25/25 [==============================] - 0s 9ms/step - loss: 0.1487 - accuracy: 0.9530 - val_loss: 0.2356 - val_accuracy: 0.8782\n",
            "Epoch 56/100\n",
            "25/25 [==============================] - 0s 8ms/step - loss: 0.1463 - accuracy: 0.9517 - val_loss: 0.2367 - val_accuracy: 0.8782\n",
            "Epoch 57/100\n",
            "25/25 [==============================] - 0s 8ms/step - loss: 0.1283 - accuracy: 0.9619 - val_loss: 0.2373 - val_accuracy: 0.8782\n",
            "Epoch 58/100\n",
            "25/25 [==============================] - 0s 8ms/step - loss: 0.1326 - accuracy: 0.9530 - val_loss: 0.2373 - val_accuracy: 0.8782\n",
            "Epoch 59/100\n",
            "25/25 [==============================] - 0s 8ms/step - loss: 0.1319 - accuracy: 0.9543 - val_loss: 0.2369 - val_accuracy: 0.8782\n",
            "Epoch 60/100\n",
            "25/25 [==============================] - 0s 7ms/step - loss: 0.1416 - accuracy: 0.9428 - val_loss: 0.2348 - val_accuracy: 0.8782\n",
            "Epoch 61/100\n",
            "25/25 [==============================] - 0s 8ms/step - loss: 0.1354 - accuracy: 0.9454 - val_loss: 0.2335 - val_accuracy: 0.8782\n",
            "Epoch 62/100\n",
            "25/25 [==============================] - 0s 8ms/step - loss: 0.1203 - accuracy: 0.9568 - val_loss: 0.2347 - val_accuracy: 0.8782\n",
            "Epoch 63/100\n",
            "25/25 [==============================] - 0s 8ms/step - loss: 0.1278 - accuracy: 0.9504 - val_loss: 0.2347 - val_accuracy: 0.8782\n",
            "Epoch 64/100\n",
            "25/25 [==============================] - 0s 9ms/step - loss: 0.1257 - accuracy: 0.9568 - val_loss: 0.2353 - val_accuracy: 0.8782\n",
            "Epoch 65/100\n",
            "25/25 [==============================] - 0s 8ms/step - loss: 0.1286 - accuracy: 0.9492 - val_loss: 0.2355 - val_accuracy: 0.8782\n",
            "Epoch 66/100\n",
            "25/25 [==============================] - 0s 8ms/step - loss: 0.1322 - accuracy: 0.9568 - val_loss: 0.2363 - val_accuracy: 0.8782\n",
            "Epoch 67/100\n",
            "25/25 [==============================] - 0s 8ms/step - loss: 0.1180 - accuracy: 0.9517 - val_loss: 0.2371 - val_accuracy: 0.8782\n",
            "Epoch 68/100\n",
            "25/25 [==============================] - 0s 8ms/step - loss: 0.1520 - accuracy: 0.9479 - val_loss: 0.2387 - val_accuracy: 0.8782\n",
            "Epoch 69/100\n",
            "25/25 [==============================] - 0s 8ms/step - loss: 0.1106 - accuracy: 0.9606 - val_loss: 0.2397 - val_accuracy: 0.8782\n",
            "Epoch 70/100\n",
            "25/25 [==============================] - 0s 8ms/step - loss: 0.1220 - accuracy: 0.9593 - val_loss: 0.2397 - val_accuracy: 0.8832\n",
            "Epoch 71/100\n",
            "25/25 [==============================] - 0s 7ms/step - loss: 0.1346 - accuracy: 0.9517 - val_loss: 0.2392 - val_accuracy: 0.8832\n",
            "Epoch 72/100\n",
            "25/25 [==============================] - 0s 8ms/step - loss: 0.1347 - accuracy: 0.9530 - val_loss: 0.2410 - val_accuracy: 0.8731\n",
            "Epoch 73/100\n",
            "25/25 [==============================] - 0s 8ms/step - loss: 0.1258 - accuracy: 0.9568 - val_loss: 0.2402 - val_accuracy: 0.8782\n",
            "Epoch 74/100\n",
            "25/25 [==============================] - 0s 9ms/step - loss: 0.1150 - accuracy: 0.9555 - val_loss: 0.2397 - val_accuracy: 0.8731\n",
            "Epoch 75/100\n",
            "25/25 [==============================] - 0s 8ms/step - loss: 0.1307 - accuracy: 0.9555 - val_loss: 0.2432 - val_accuracy: 0.8782\n",
            "Epoch 76/100\n",
            "25/25 [==============================] - 0s 7ms/step - loss: 0.1227 - accuracy: 0.9568 - val_loss: 0.2457 - val_accuracy: 0.8782\n",
            "Epoch 77/100\n",
            "25/25 [==============================] - 0s 7ms/step - loss: 0.1436 - accuracy: 0.9479 - val_loss: 0.2465 - val_accuracy: 0.8782\n",
            "Epoch 78/100\n",
            "25/25 [==============================] - 0s 8ms/step - loss: 0.1244 - accuracy: 0.9466 - val_loss: 0.2459 - val_accuracy: 0.8782\n",
            "Epoch 79/100\n",
            "25/25 [==============================] - 0s 8ms/step - loss: 0.1190 - accuracy: 0.9632 - val_loss: 0.2466 - val_accuracy: 0.8782\n",
            "Epoch 80/100\n",
            "25/25 [==============================] - 0s 8ms/step - loss: 0.1120 - accuracy: 0.9543 - val_loss: 0.2460 - val_accuracy: 0.8782\n",
            "Epoch 81/100\n",
            "25/25 [==============================] - 0s 8ms/step - loss: 0.1249 - accuracy: 0.9568 - val_loss: 0.2471 - val_accuracy: 0.8782\n",
            "Epoch 82/100\n",
            "25/25 [==============================] - 0s 8ms/step - loss: 0.1133 - accuracy: 0.9593 - val_loss: 0.2480 - val_accuracy: 0.8731\n",
            "Epoch 83/100\n",
            "25/25 [==============================] - 0s 7ms/step - loss: 0.1130 - accuracy: 0.9606 - val_loss: 0.2487 - val_accuracy: 0.8680\n",
            "Epoch 84/100\n",
            "25/25 [==============================] - 0s 8ms/step - loss: 0.1265 - accuracy: 0.9555 - val_loss: 0.2489 - val_accuracy: 0.8731\n",
            "Epoch 85/100\n",
            "25/25 [==============================] - 0s 8ms/step - loss: 0.1208 - accuracy: 0.9593 - val_loss: 0.2497 - val_accuracy: 0.8782\n",
            "Epoch 86/100\n",
            "25/25 [==============================] - 0s 8ms/step - loss: 0.1233 - accuracy: 0.9517 - val_loss: 0.2513 - val_accuracy: 0.8731\n",
            "Epoch 87/100\n",
            "25/25 [==============================] - 0s 8ms/step - loss: 0.1263 - accuracy: 0.9517 - val_loss: 0.2523 - val_accuracy: 0.8782\n",
            "Epoch 88/100\n",
            "25/25 [==============================] - 0s 8ms/step - loss: 0.1109 - accuracy: 0.9581 - val_loss: 0.2498 - val_accuracy: 0.8832\n",
            "Epoch 89/100\n",
            "25/25 [==============================] - 0s 9ms/step - loss: 0.1196 - accuracy: 0.9632 - val_loss: 0.2515 - val_accuracy: 0.8832\n",
            "Epoch 90/100\n",
            "25/25 [==============================] - 0s 8ms/step - loss: 0.1156 - accuracy: 0.9581 - val_loss: 0.2500 - val_accuracy: 0.8782\n",
            "Epoch 91/100\n",
            "25/25 [==============================] - 0s 8ms/step - loss: 0.1134 - accuracy: 0.9568 - val_loss: 0.2503 - val_accuracy: 0.8731\n",
            "Epoch 92/100\n",
            "25/25 [==============================] - 0s 8ms/step - loss: 0.1155 - accuracy: 0.9581 - val_loss: 0.2503 - val_accuracy: 0.8782\n",
            "Epoch 93/100\n",
            "25/25 [==============================] - 0s 8ms/step - loss: 0.1121 - accuracy: 0.9530 - val_loss: 0.2528 - val_accuracy: 0.8832\n",
            "Epoch 94/100\n",
            "25/25 [==============================] - 0s 9ms/step - loss: 0.1158 - accuracy: 0.9568 - val_loss: 0.2522 - val_accuracy: 0.8832\n",
            "Epoch 95/100\n",
            "25/25 [==============================] - 0s 7ms/step - loss: 0.1059 - accuracy: 0.9543 - val_loss: 0.2519 - val_accuracy: 0.8832\n",
            "Epoch 96/100\n",
            "25/25 [==============================] - 0s 8ms/step - loss: 0.1037 - accuracy: 0.9644 - val_loss: 0.2531 - val_accuracy: 0.8832\n",
            "Epoch 97/100\n",
            "25/25 [==============================] - 0s 8ms/step - loss: 0.1037 - accuracy: 0.9606 - val_loss: 0.2534 - val_accuracy: 0.8883\n",
            "Epoch 98/100\n",
            "25/25 [==============================] - 0s 7ms/step - loss: 0.1146 - accuracy: 0.9593 - val_loss: 0.2559 - val_accuracy: 0.8883\n",
            "Epoch 99/100\n",
            "25/25 [==============================] - 0s 8ms/step - loss: 0.1042 - accuracy: 0.9657 - val_loss: 0.2572 - val_accuracy: 0.8782\n",
            "Epoch 100/100\n",
            "25/25 [==============================] - 0s 7ms/step - loss: 0.1104 - accuracy: 0.9543 - val_loss: 0.2579 - val_accuracy: 0.8832\n"
          ]
        }
      ]
    },
    {
      "cell_type": "code",
      "metadata": {
        "id": "r9lNrAidkSWD"
      },
      "source": [
        "def plot_learningCurve(history, epoch):\n",
        "  # Plot training & validation accuracy values\n",
        "  epoch_range = range(1, epoch+1)\n",
        "  pylt.plot(epoch_range, history.history['accuracy'])\n",
        "  pylt.plot(epoch_range, history.history['val_accuracy'])\n",
        "  pylt.title('Model accuracy')\n",
        "  pylt.ylabel('Accuracy')\n",
        "  pylt.xlabel('Epoch')\n",
        "  pylt.legend(['Train', 'Val'], loc='upper left')\n",
        "  pylt.show()\n",
        "\n",
        "  # Plot training & validation loss values\n",
        "  pylt.plot(epoch_range, history.history['loss'])\n",
        "  pylt.plot(epoch_range, history.history['val_loss'])\n",
        "  pylt.title('Model loss')\n",
        "  pylt.ylabel('Loss')\n",
        "  pylt.xlabel('Epoch')\n",
        "  pylt.legend(['Train', 'Val'], loc='upper left')\n",
        "  pylt.show()"
      ],
      "execution_count": null,
      "outputs": []
    },
    {
      "cell_type": "code",
      "metadata": {
        "colab": {
          "base_uri": "https://localhost:8080/",
          "height": 573
        },
        "id": "AgR3J3DXkSWD",
        "outputId": "e3172db0-315a-4351-cd31-ef4c438566ac"
      },
      "source": [
        "plot_learningCurve(history, epochs)"
      ],
      "execution_count": null,
      "outputs": [
        {
          "output_type": "display_data",
          "data": {
            "text/plain": [
              "<Figure size 432x288 with 1 Axes>"
            ],
            "image/png": "[encoded data removed]"
          },
          "metadata": {
            "needs_background": "light"
          }
        },
        {
          "output_type": "display_data",
          "data": {
            "text/plain": [
              "<Figure size 432x288 with 1 Axes>"
            ],
            "image/png": "[encoded data removed]"
          },
          "metadata": {
            "needs_background": "light"
          }
        }
      ]
    }
  ]
}